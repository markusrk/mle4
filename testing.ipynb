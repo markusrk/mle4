{
 "cells": [
  {
   "cell_type": "code",
   "execution_count": 132,
   "metadata": {},
   "outputs": [],
   "source": [
    "# Import dataset\n",
    "from sklearn import datasets\n",
    "from sklearn.model_selection import train_test_split\n",
    "\n",
    "data = datasets.load_digits()\n",
    "\n",
    "# Make array representation of labels\n",
    "y = []\n",
    "for x in data.target:\n",
    "    r = [0,0,0,0,0,0,0,0,0,0]\n",
    "    r[x] = 1\n",
    "    y.append(r)\n",
    "x_train, x_test, y_train, y_test = train_test_split(data.data, y, test_size=0.33, random_state=42)\n"
   ]
  },
  {
   "cell_type": "code",
   "execution_count": 133,
   "metadata": {},
   "outputs": [
    {
     "name": "stdout",
     "output_type": "stream",
     "text": [
      "[0 1 2 ... 8 9 8]\n",
      "1797\n",
      "1797\n",
      "1203\n"
     ]
    }
   ],
   "source": [
    "# Experimenting with data\n",
    "\n",
    "print(data.target)\n",
    "print(len(data.target))\n",
    "print(len(y))\n",
    "print(len(x_train))"
   ]
  },
  {
   "cell_type": "code",
   "execution_count": 131,
   "metadata": {},
   "outputs": [
    {
     "name": "stdout",
     "output_type": "stream",
     "text": [
      "[0, 0, 0, 0, 0, 0, 0, 0, 0, 1]\n"
     ]
    },
    {
     "data": {
      "text/plain": [
       "<IPython.core.display.Javascript object>"
      ]
     },
     "metadata": {},
     "output_type": "display_data"
    },
    {
     "data": {
      "text/html": [
       "<img src=\"data:image/png;base64,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\" width=\"300\">"
      ],
      "text/plain": [
       "<IPython.core.display.HTML object>"
      ]
     },
     "metadata": {},
     "output_type": "execute_result"
    }
   ],
   "source": [
    "\n",
    "# Test if import works correctly\n",
    "import numpy as np\n",
    "\n",
    "i = 7\n",
    "print(y_train[i])\n",
    "img = np.reshape(x_train[i], (-1, 8))\n",
    "\n",
    "%matplotlib notebook\n",
    "import matplotlib.pyplot as plt \n",
    "plt.figure(1, figsize=(3, 3))\n",
    "plt.imshow(img, cmap=plt.cm.gray_r, interpolation='nearest')\n",
    "plt.show()"
   ]
  },
  {
   "cell_type": "code",
   "execution_count": 134,
   "metadata": {},
   "outputs": [],
   "source": [
    "#parameters\n",
    "layer_sizes = [64,64,10]"
   ]
  },
  {
   "cell_type": "code",
   "execution_count": 222,
   "metadata": {},
   "outputs": [
    {
     "ename": "ValueError",
     "evalue": "could not broadcast input array from shape (64,64) into shape (64)",
     "traceback": [
      "\u001b[0;31m---------------------------------------------------------------------------\u001b[0m",
      "\u001b[0;31mValueError\u001b[0m                                Traceback (most recent call last)",
      "\u001b[0;32m<ipython-input-222-9ee81ffe44f5>\u001b[0m in \u001b[0;36m<module>\u001b[0;34m()\u001b[0m\n\u001b[1;32m     20\u001b[0m \u001b[0;32mfor\u001b[0m \u001b[0mi\u001b[0m \u001b[0;32min\u001b[0m \u001b[0mrange\u001b[0m\u001b[0;34m(\u001b[0m\u001b[0;36m1\u001b[0m\u001b[0;34m,\u001b[0m\u001b[0mlen\u001b[0m\u001b[0;34m(\u001b[0m\u001b[0mlayer_sizes\u001b[0m\u001b[0;34m)\u001b[0m\u001b[0;34m)\u001b[0m\u001b[0;34m:\u001b[0m\u001b[0;34m\u001b[0m\u001b[0m\n\u001b[1;32m     21\u001b[0m     \u001b[0mweights\u001b[0m\u001b[0;34m.\u001b[0m\u001b[0mappend\u001b[0m\u001b[0;34m(\u001b[0m\u001b[0;36m2\u001b[0m\u001b[0;34m*\u001b[0m\u001b[0mnp\u001b[0m\u001b[0;34m.\u001b[0m\u001b[0mrandom\u001b[0m\u001b[0;34m.\u001b[0m\u001b[0mrandom\u001b[0m\u001b[0;34m(\u001b[0m\u001b[0;34m(\u001b[0m\u001b[0mlayer_sizes\u001b[0m\u001b[0;34m[\u001b[0m\u001b[0mi\u001b[0m\u001b[0;34m-\u001b[0m\u001b[0;36m1\u001b[0m\u001b[0;34m]\u001b[0m\u001b[0;34m,\u001b[0m\u001b[0mlayer_sizes\u001b[0m\u001b[0;34m[\u001b[0m\u001b[0mi\u001b[0m\u001b[0;34m]\u001b[0m\u001b[0;34m)\u001b[0m\u001b[0;34m)\u001b[0m \u001b[0;34m-\u001b[0m \u001b[0;36m1\u001b[0m\u001b[0;34m)\u001b[0m\u001b[0;34m\u001b[0m\u001b[0m\n\u001b[0;32m---> 22\u001b[0;31m \u001b[0mweights\u001b[0m \u001b[0;34m=\u001b[0m \u001b[0mnp\u001b[0m\u001b[0;34m.\u001b[0m\u001b[0marray\u001b[0m\u001b[0;34m(\u001b[0m\u001b[0mweights\u001b[0m\u001b[0;34m)\u001b[0m\u001b[0;34m\u001b[0m\u001b[0m\n\u001b[0m\u001b[1;32m     23\u001b[0m \u001b[0;34m\u001b[0m\u001b[0m\n\u001b[1;32m     24\u001b[0m \u001b[0;31m# Training function\u001b[0m\u001b[0;34m\u001b[0m\u001b[0;34m\u001b[0m\u001b[0m\n",
      "\u001b[0;31mValueError\u001b[0m: could not broadcast input array from shape (64,64) into shape (64)"
     ],
     "output_type": "error"
    }
   ],
   "source": [
    "import numpy as np\n",
    "\n",
    "# Activation function, should be the logistic function\n",
    "def afunc(x):\n",
    "    return 1/(1+np.exp(-x))\n",
    "\n",
    "\n",
    "# Derivative of the activation function\n",
    "def afuncDerivative(x):\n",
    "    return x*(1-x)\n",
    "    \n",
    "\n",
    "# Initialization of layers\n",
    "layers = []\n",
    "for i in range(len(layer_sizes)):\n",
    "    layers.append(2*np.random.random((layer_sizes[i],1)) - 1)\n",
    "    \n",
    "# Initialization of weights\n",
    "weights = []\n",
    "for i in range(1,len(layer_sizes)):\n",
    "    weights.append(2*np.random.random((layer_sizes[i-1],layer_sizes[i])) - 1)\n",
    "weights = np.array(weights)\n",
    "    \n",
    "# Training function\n",
    "def train(training_set):\n",
    "    for x in range(len(x_train)):\n",
    "        output = None\n",
    "        \n",
    "        # Calculates the values of each neuron in each layer\n",
    "        layer_output = []\n",
    "        layer_output.append(x_train[x])\n",
    "        for i in range(len(weights)):\n",
    "            layer_output.append(layer_output[-1]*weights[i])\n",
    "        output = layer_output[-1]\n",
    "        \n",
    "        # Calculates the gradien for each weight\n",
    "        gradients = []\n",
    "        for x in range(len(weights)):\n",
    "            break\n",
    "    \n",
    "    return None\n",
    "    \n",
    "\n"
   ]
  },
  {
   "cell_type": "code",
   "execution_count": 77,
   "metadata": {},
   "outputs": [
    {
     "name": "stdout",
     "output_type": "stream",
     "text": [
      "64\n",
      "64\n",
      "64\n",
      "10\n"
     ]
    }
   ],
   "source": [
    "# Check weight initialization\n",
    "for x in weights:\n",
    "    print(len(x))\n",
    "    print(len(x[1]))"
   ]
  },
  {
   "cell_type": "code",
   "execution_count": 221,
   "metadata": {},
   "outputs": [
    {
     "name": "stdout",
     "output_type": "stream",
     "text": [
      "layer x:  (1203, 64)\n",
      "layer x+1:  (1203, 64)\n",
      "weights x:  64\n",
      "weights x[x]:  64\n",
      "dotproduct:  (64, 64)\n"
     ]
    },
    {
     "ename": "ValueError",
     "evalue": "could not broadcast input array from shape (64,64) into shape (64)",
     "traceback": [
      "\u001b[0;31m---------------------------------------------------------------------------\u001b[0m",
      "\u001b[0;31mValueError\u001b[0m                                Traceback (most recent call last)",
      "\u001b[0;32m<ipython-input-221-5d45d2ae29e9>\u001b[0m in \u001b[0;36m<module>\u001b[0;34m()\u001b[0m\n\u001b[1;32m     34\u001b[0m \u001b[0;34m\u001b[0m\u001b[0m\n\u001b[1;32m     35\u001b[0m     \u001b[0mprint\u001b[0m\u001b[0;34m(\u001b[0m\u001b[0;34m\"dotproduct: \"\u001b[0m\u001b[0;34m,\u001b[0m\u001b[0mlayer_output\u001b[0m\u001b[0;34m[\u001b[0m\u001b[0mx\u001b[0m\u001b[0;34m]\u001b[0m\u001b[0;34m.\u001b[0m\u001b[0mT\u001b[0m\u001b[0;34m.\u001b[0m\u001b[0mdot\u001b[0m\u001b[0;34m(\u001b[0m\u001b[0mlayer_output\u001b[0m\u001b[0;34m[\u001b[0m\u001b[0mx\u001b[0m\u001b[0;34m+\u001b[0m\u001b[0;36m1\u001b[0m\u001b[0;34m]\u001b[0m\u001b[0;34m)\u001b[0m\u001b[0;34m.\u001b[0m\u001b[0mshape\u001b[0m\u001b[0;34m)\u001b[0m\u001b[0;34m\u001b[0m\u001b[0m\n\u001b[0;32m---> 36\u001b[0;31m     \u001b[0mweights\u001b[0m \u001b[0;34m+=\u001b[0m \u001b[0mlayer_output\u001b[0m\u001b[0;34m[\u001b[0m\u001b[0mx\u001b[0m\u001b[0;34m]\u001b[0m\u001b[0;34m.\u001b[0m\u001b[0mT\u001b[0m\u001b[0;34m.\u001b[0m\u001b[0mdot\u001b[0m\u001b[0;34m(\u001b[0m\u001b[0mlayer_output\u001b[0m\u001b[0;34m[\u001b[0m\u001b[0mx\u001b[0m\u001b[0;34m+\u001b[0m\u001b[0;36m1\u001b[0m\u001b[0;34m]\u001b[0m\u001b[0;34m)\u001b[0m\u001b[0;34m\u001b[0m\u001b[0m\n\u001b[0m\u001b[1;32m     37\u001b[0m \u001b[0;34m\u001b[0m\u001b[0m\n\u001b[1;32m     38\u001b[0m \u001b[0;31m# Print layers\u001b[0m\u001b[0;34m\u001b[0m\u001b[0;34m\u001b[0m\u001b[0m\n",
      "\u001b[0;31mValueError\u001b[0m: could not broadcast input array from shape (64,64) into shape (64)"
     ],
     "output_type": "error"
    }
   ],
   "source": [
    "\n",
    "# Calculates the values of each neuron in each layer\n",
    "layer_output = []\n",
    "layer_output.append(x_train)\n",
    "for i in range(len(weights)):\n",
    "    layer_output.append(afunc(layer_output[-1].dot(weights[i])))\n",
    "\n",
    "# Testing lines to be deleted    \n",
    "#print((str(len(layer_output))+\" \"+str(len(layer_output[0]))+\" \"+str(len(layer_output[0][0]))))\n",
    "#print(str(len(weights))+\" \"+str(len(weights[1]))+\" \"+str(len(weights[1][0])))\n",
    "#for x in range(len(weights)-1,-1,-1):\n",
    "#    print(x)\n",
    "    \n",
    "# Error function to be deleted\n",
    "error = 1/2*(layer_output[-1]-y_train)**2\n",
    "sum_error = np.sum(error)\n",
    "\n",
    "# Gradient calculation\n",
    "gradients = []\n",
    "s1 = (y_train-layer_output[-1])\n",
    "for x in range(len(weights)-1,-1,-1):\n",
    "    grad =s1*afuncDerivative(layer_output[x+1])\n",
    "    gradients.insert(0,grad)\n",
    "    if x!=0: s1 = gradients[0].dot(weights[x].T)\n",
    "\n",
    "\n",
    "    \n",
    "# Update weights\n",
    "for x in range(len(weights)):\n",
    "    print(\"layer x: \", layer_output[x].shape)\n",
    "    print(\"layer x+1: \", layer_output[x+1].shape)\n",
    "    print(\"weights x: \",len(weights[x]))\n",
    "    print(\"weights x[x]: \",len(weights[x][x]))\n",
    "\n",
    "    print(\"dotproduct: \",layer_output[x].T.dot(layer_output[x+1]).shape)\n",
    "    weights += layer_output[x].T.dot(layer_output[x+1])\n",
    "    \n",
    "# Print layers\n",
    "for x in layer_output:\n",
    "    #print(x)\n",
    "    continue\n"
   ]
  },
  {
   "cell_type": "code",
   "execution_count": null,
   "metadata": {},
   "outputs": [],
   "source": []
  },
  {
   "cell_type": "code",
   "execution_count": null,
   "metadata": {},
   "outputs": [],
   "source": []
  }
 ],
 "metadata": {
  "kernelspec": {
   "display_name": "Python 3",
   "language": "python",
   "name": "python3"
  },
  "language_info": {
   "codemirror_mode": {
    "name": "ipython",
    "version": 3
   },
   "file_extension": ".py",
   "mimetype": "text/x-python",
   "name": "python",
   "nbconvert_exporter": "python",
   "pygments_lexer": "ipython3",
   "version": "3.6.5"
  }
 },
 "nbformat": 4,
 "nbformat_minor": 1
}
