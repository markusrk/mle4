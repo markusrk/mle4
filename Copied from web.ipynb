{
 "cells": [
  {
   "cell_type": "code",
   "execution_count": 19,
   "metadata": {},
   "outputs": [
    {
     "name": "stdout",
     "output_type": "stream",
     "text": [
      "(3, 2)\n",
      "[[0.09950372 0.        ]\n",
      " [0.         1.        ]\n",
      " [0.99503719 0.        ]]\n"
     ]
    }
   ],
   "source": [
    "import sklearn.preprocessing\n",
    "import numpy as np\n",
    "\n",
    "array = np.array([[100,0],[0,100],[1000,0]])\n",
    "print(array.shape)\n",
    "print(sklearn.preprocessing.normalize(array,axis=0))"
   ]
  },
  {
   "cell_type": "code",
   "execution_count": 11,
   "metadata": {},
   "outputs": [],
   "source": [
    "# Import dataset\n",
    "from sklearn import datasets\n",
    "from sklearn.model_selection import train_test_split\n",
    "\n",
    "data = datasets.load_digits()\n",
    "\n",
    "# Make array representation of labels\n",
    "y = []\n",
    "for x in data.target:\n",
    "    r = [0,0,0,0,0,0,0,0,0,0]\n",
    "    r[x] = 1\n",
    "    y.append(r)\n",
    "x_train, x_test, y_train, y_test = train_test_split(data.data, y, test_size=0.33, random_state=42)\n"
   ]
  },
  {
   "cell_type": "code",
   "execution_count": 45,
   "metadata": {},
   "outputs": [
    {
     "data": {
      "image/png": "[encoded data removed]",
      "text/plain": [
       "<Figure size 432x288 with 1 Axes>"
      ]
     },
     "metadata": {},
     "output_type": "display_data"
    }
   ],
   "source": [
    "%matplotlib inline\n",
    "import matplotlib.pyplot as plt\n",
    "\n",
    "def afunc(x):\n",
    "    return x*(1-x)\n",
    "\n",
    "x = np.linspace(-5,5,1000)\n",
    "y = afunc(x)\n",
    "\n",
    "plt.plot(x,y)\n",
    "plt.show()"
   ]
  }
 ],
 "metadata": {
  "kernelspec": {
   "display_name": "Python 3",
   "language": "python",
   "name": "python3"
  },
  "language_info": {
   "codemirror_mode": {
    "name": "ipython",
    "version": 3
   },
   "file_extension": ".py",
   "mimetype": "text/x-python",
   "name": "python",
   "nbconvert_exporter": "python",
   "pygments_lexer": "ipython3",
   "version": "3.6.5"
  }
 },
 "nbformat": 4,
 "nbformat_minor": 2
}
